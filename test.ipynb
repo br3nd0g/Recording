{
 "cells": [
  {
   "cell_type": "markdown",
   "id": "db8308d1",
   "metadata": {},
   "source": [
    "# sprite making tool"
   ]
  },
  {
   "cell_type": "code",
   "execution_count": 8,
   "id": "140d5dcd",
   "metadata": {},
   "outputs": [
    {
     "name": "stdout",
     "output_type": "stream",
     "text": [
      "27\n"
     ]
    }
   ],
   "source": [
    "test = [\"red\", \"green\", \"blue\"]\n",
    "\n",
    "combos = []\n",
    "\n",
    "for i in test:\n",
    "    for j in test:\n",
    "        for k in test:\n",
    "                combos.append([i, j, k])\n",
    "\n",
    "print(len(combos))"
   ]
  },
  {
   "cell_type": "code",
   "execution_count": 9,
   "id": "4a2f81df",
   "metadata": {},
   "outputs": [],
   "source": [
    "from PIL import Image"
   ]
  },
  {
   "cell_type": "code",
   "execution_count": 10,
   "id": "c0aabcc4",
   "metadata": {},
   "outputs": [],
   "source": [
    "image_paths = {\n",
    "    \"blue\": \"./people/blue.png\",\n",
    "    \"green\": \"./people/green.png\",\n",
    "    \"red\": \"./people/red.png\"\n",
    "}\n",
    "\n",
    "# images loaded - spritesheet of 4 frames\n",
    "images = {color: Image.open(path) for color, path in image_paths.items()}\n",
    "\n",
    "# images cropped to 4 images\n",
    "quartered_images = {\n",
    "    color: [\n",
    "        img.crop((0, 0, img.width // 2, img.height // 2)),\n",
    "        img.crop((img.width // 2, 0, img.width, img.height // 2)),\n",
    "        img.crop((0, img.height // 2, img.width // 2, img.height)),\n",
    "        img.crop((img.width // 2, img.height // 2, img.width, img.height))\n",
    "    ]\n",
    "    for color, img in images.items()\n",
    "}\n",
    "\n",
    "# images are wanted as 3 vertical strips\n",
    "quartered_and_verticalsplit_images = {}\n",
    "\n",
    "for color, img in quartered_images.items():\n",
    "\n",
    "    frames = []\n",
    "\n",
    "    for frame in img:\n",
    "\n",
    "        head = frame.crop((0, 0, frame.width, 46))\n",
    "        body = frame.crop((0, 46, frame.width, 83))\n",
    "        legs = frame.crop((0, 83, frame.width, 128))\n",
    "\n",
    "        framesplits = [head, body, legs]\n",
    "\n",
    "        frames.append(framesplits)\n",
    "\n",
    "    quartered_and_verticalsplit_images[color] = frames\n",
    "\n",
    "# print(quartered_and_verticalsplit_images)"
   ]
  },
  {
   "cell_type": "code",
   "execution_count": 11,
   "id": "5a6c5c38",
   "metadata": {},
   "outputs": [],
   "source": [
    "colors = [\"red\", \"green\", \"blue\"]\n",
    "\n",
    "for head_color in colors:\n",
    "    for body_color in colors:\n",
    "        for leg_color in colors:\n",
    "\n",
    "            new_im = Image.new('RGBA', (256, 256))\n",
    "\n",
    "            for frame in range(4):\n",
    "\n",
    "                frame_im = Image.new('RGBA', (128, 128))\n",
    "\n",
    "                head = quartered_and_verticalsplit_images[head_color][frame][0]\n",
    "                body = quartered_and_verticalsplit_images[body_color][frame][1]\n",
    "                legs = quartered_and_verticalsplit_images[leg_color][frame][2]\n",
    "\n",
    "                frame_im.paste(head, (0, 0))\n",
    "                frame_im.paste(body, (0, head.height))\n",
    "                frame_im.paste(legs, (0, head.height + body.height))\n",
    "\n",
    "                if frame == 0:\n",
    "                    new_im.paste(frame_im, (0, 0))\n",
    "                elif frame == 1:\n",
    "                    new_im.paste(frame_im, (0, 128))\n",
    "                elif frame == 2:\n",
    "                    new_im.paste(frame_im, (128, 0))\n",
    "                elif frame == 3:\n",
    "                    new_im.paste(frame_im, (128, 128))\n",
    "\n",
    "            new_im.save(f'./static/images/gen_people/{head_color}_{body_color}_{leg_color}.png')"
   ]
  },
  {
   "cell_type": "code",
   "execution_count": 12,
   "id": "a74ca5b5",
   "metadata": {},
   "outputs": [],
   "source": [
    "image_paths = {\n",
    "    \"blue\": \"./people/forward_facing/blue_wanted.png\",\n",
    "    \"green\": \"./people/forward_facing/green_wanted.png\",\n",
    "    \"red\": \"./people/forward_facing/red_wanted.png\"\n",
    "}\n",
    "\n",
    "# images loaded - spritesheet of 4 frames\n",
    "images = {color: Image.open(path) for color, path in image_paths.items()}\n",
    "\n",
    "# images are wanted as 3 vertical strips\n",
    "verticalsplit_images = {}\n",
    "\n",
    "for color, img in images.items():\n",
    "\n",
    "\n",
    "\n",
    "    head = img.crop((0, 0, img.width, 41))\n",
    "    body = img.crop((0, 46, img.width, 87))\n",
    "    legs = img.crop((0, 83, img.width, 128))\n",
    "\n",
    "    framesplits = [head, body, legs]\n",
    "\n",
    "\n",
    "    verticalsplit_images[color] = framesplits"
   ]
  },
  {
   "cell_type": "code",
   "execution_count": 13,
   "id": "133dbc71",
   "metadata": {},
   "outputs": [],
   "source": [
    "colors = [\"red\", \"green\", \"blue\"]\n",
    "\n",
    "for head_color in colors:\n",
    "    for body_color in colors:\n",
    "        for leg_color in colors:\n",
    "\n",
    "            frame_im = Image.new('RGBA', (64, 128))\n",
    "\n",
    "            head = verticalsplit_images[head_color][0]\n",
    "            body = verticalsplit_images[body_color][1]\n",
    "            legs = verticalsplit_images[leg_color][2]\n",
    "\n",
    "            frame_im.paste(head, (0, 0))\n",
    "            frame_im.paste(body, (0, head.height))\n",
    "            frame_im.paste(legs, (0, head.height + body.height))\n",
    "\n",
    "\n",
    "            frame_im.save(f'./static/images/gen_wanted/{head_color}_{body_color}_{leg_color}.png')"
   ]
  }
 ],
 "metadata": {
  "kernelspec": {
   "display_name": "base",
   "language": "python",
   "name": "python3"
  },
  "language_info": {
   "codemirror_mode": {
    "name": "ipython",
    "version": 3
   },
   "file_extension": ".py",
   "mimetype": "text/x-python",
   "name": "python",
   "nbconvert_exporter": "python",
   "pygments_lexer": "ipython3",
   "version": "3.11.4"
  }
 },
 "nbformat": 4,
 "nbformat_minor": 5
}
